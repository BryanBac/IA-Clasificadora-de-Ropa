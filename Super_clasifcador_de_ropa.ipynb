{
 "cells": [
  {
   "cell_type": "code",
   "execution_count": 1,
   "id": "9f3d581a",
   "metadata": {},
   "outputs": [],
   "source": [
    "import tensorflow as tf\n",
    "from tensorflow import keras"
   ]
  },
  {
   "cell_type": "code",
   "execution_count": 2,
   "id": "10169a2d",
   "metadata": {},
   "outputs": [],
   "source": [
    "import numpy as np\n",
    "import matplotlib.pyplot as plt\n",
    "#esto es para el frontend\n",
    "from tkinter import *\n",
    "from tkinter import ttk\n",
    "from tkinter import filedialog, Label,PhotoImage, Button"
   ]
  },
  {
   "cell_type": "code",
   "execution_count": 3,
   "id": "9c52d95f",
   "metadata": {},
   "outputs": [],
   "source": [
    "fashion_mnist = keras.datasets.fashion_mnist\n",
    "pru= keras.datasets.fashion_mnist"
   ]
  },
  {
   "cell_type": "code",
   "execution_count": 4,
   "id": "ba87a17c",
   "metadata": {},
   "outputs": [],
   "source": [
    "(train_images, train_labels),(test_images, test_labels) = fashion_mnist.load_data()"
   ]
  },
  {
   "cell_type": "code",
   "execution_count": 5,
   "id": "6b3171bb",
   "metadata": {},
   "outputs": [],
   "source": [
    "categorias = [\"Playera\",\"Pantalon\",\"Sueter\",\"Vestido\",\"Abrigo\",\"Sandalia\",\n",
    "              \"Camisa\",\"Sneaker\",\"bolsa\",\"Botín\"]"
   ]
  },
  {
   "cell_type": "code",
   "execution_count": 6,
   "id": "108a9035",
   "metadata": {},
   "outputs": [
    {
     "name": "stdout",
     "output_type": "stream",
     "text": [
      "Train_Images shape:  (60000, 28, 28)\n",
      "Train_Labels shape:   60000\n",
      "Test_Images  shape:  (10000, 28, 28)\n",
      "Test_Labels  shape:   10000\n"
     ]
    }
   ],
   "source": [
    "print(\"Train_Images shape: \",train_images.shape)\n",
    "print(\"Train_Labels shape:  \",len(train_labels))\n",
    "print(\"Test_Images  shape: \",test_images.shape)\n",
    "print(\"Test_Labels  shape:  \",len(test_labels))"
   ]
  },
  {
   "cell_type": "code",
   "execution_count": 7,
   "id": "e50a5fbe",
   "metadata": {},
   "outputs": [],
   "source": [
    "#import pandas as pd\n",
    "##dir(pru)\n",
    "#tipoDato = pd.DataFrame(data = pru, index = categorias)\n",
    "#tipoDato"
   ]
  },
  {
   "cell_type": "code",
   "execution_count": 8,
   "id": "ff6395d9",
   "metadata": {},
   "outputs": [
    {
     "data": {
      "text/plain": [
       "array([[  0,   0,   0,   0,   0,   0,   0,   0,   0,   0,   0,   0,   0,\n",
       "          0,   0,   0,   0,   0,   0,   0,   0,   0,   0,   0,   0,   0,\n",
       "          0,   0],\n",
       "       [  0,   0,   0,   0,   0,   0,   0,   0,   0,   0,   0,   0,   0,\n",
       "          0,   0,   0,   0,   0,   0,   0,   0,   0,   0,   0,   0,   0,\n",
       "          0,   0],\n",
       "       [  0,   0,   0,   0,   0,   0,   0,   0,   0,   0,   0,   0,   0,\n",
       "          0,   0,   0,   0,   0,   0,   0,   0,   0,   0,   0,   0,   0,\n",
       "          0,   0],\n",
       "       [  0,   0,   0,   0,   0,   0,   0,   0,   0,   0,   0,   0,   1,\n",
       "          0,   0,  13,  73,   0,   0,   1,   4,   0,   0,   0,   0,   1,\n",
       "          1,   0],\n",
       "       [  0,   0,   0,   0,   0,   0,   0,   0,   0,   0,   0,   0,   3,\n",
       "          0,  36, 136, 127,  62,  54,   0,   0,   0,   1,   3,   4,   0,\n",
       "          0,   3],\n",
       "       [  0,   0,   0,   0,   0,   0,   0,   0,   0,   0,   0,   0,   6,\n",
       "          0, 102, 204, 176, 134, 144, 123,  23,   0,   0,   0,   0,  12,\n",
       "         10,   0],\n",
       "       [  0,   0,   0,   0,   0,   0,   0,   0,   0,   0,   0,   0,   0,\n",
       "          0, 155, 236, 207, 178, 107, 156, 161, 109,  64,  23,  77, 130,\n",
       "         72,  15],\n",
       "       [  0,   0,   0,   0,   0,   0,   0,   0,   0,   0,   0,   1,   0,\n",
       "         69, 207, 223, 218, 216, 216, 163, 127, 121, 122, 146, 141,  88,\n",
       "        172,  66],\n",
       "       [  0,   0,   0,   0,   0,   0,   0,   0,   0,   1,   1,   1,   0,\n",
       "        200, 232, 232, 233, 229, 223, 223, 215, 213, 164, 127, 123, 196,\n",
       "        229,   0],\n",
       "       [  0,   0,   0,   0,   0,   0,   0,   0,   0,   0,   0,   0,   0,\n",
       "        183, 225, 216, 223, 228, 235, 227, 224, 222, 224, 221, 223, 245,\n",
       "        173,   0],\n",
       "       [  0,   0,   0,   0,   0,   0,   0,   0,   0,   0,   0,   0,   0,\n",
       "        193, 228, 218, 213, 198, 180, 212, 210, 211, 213, 223, 220, 243,\n",
       "        202,   0],\n",
       "       [  0,   0,   0,   0,   0,   0,   0,   0,   0,   1,   3,   0,  12,\n",
       "        219, 220, 212, 218, 192, 169, 227, 208, 218, 224, 212, 226, 197,\n",
       "        209,  52],\n",
       "       [  0,   0,   0,   0,   0,   0,   0,   0,   0,   0,   6,   0,  99,\n",
       "        244, 222, 220, 218, 203, 198, 221, 215, 213, 222, 220, 245, 119,\n",
       "        167,  56],\n",
       "       [  0,   0,   0,   0,   0,   0,   0,   0,   0,   4,   0,   0,  55,\n",
       "        236, 228, 230, 228, 240, 232, 213, 218, 223, 234, 217, 217, 209,\n",
       "         92,   0],\n",
       "       [  0,   0,   1,   4,   6,   7,   2,   0,   0,   0,   0,   0, 237,\n",
       "        226, 217, 223, 222, 219, 222, 221, 216, 223, 229, 215, 218, 255,\n",
       "         77,   0],\n",
       "       [  0,   3,   0,   0,   0,   0,   0,   0,   0,  62, 145, 204, 228,\n",
       "        207, 213, 221, 218, 208, 211, 218, 224, 223, 219, 215, 224, 244,\n",
       "        159,   0],\n",
       "       [  0,   0,   0,   0,  18,  44,  82, 107, 189, 228, 220, 222, 217,\n",
       "        226, 200, 205, 211, 230, 224, 234, 176, 188, 250, 248, 233, 238,\n",
       "        215,   0],\n",
       "       [  0,  57, 187, 208, 224, 221, 224, 208, 204, 214, 208, 209, 200,\n",
       "        159, 245, 193, 206, 223, 255, 255, 221, 234, 221, 211, 220, 232,\n",
       "        246,   0],\n",
       "       [  3, 202, 228, 224, 221, 211, 211, 214, 205, 205, 205, 220, 240,\n",
       "         80, 150, 255, 229, 221, 188, 154, 191, 210, 204, 209, 222, 228,\n",
       "        225,   0],\n",
       "       [ 98, 233, 198, 210, 222, 229, 229, 234, 249, 220, 194, 215, 217,\n",
       "        241,  65,  73, 106, 117, 168, 219, 221, 215, 217, 223, 223, 224,\n",
       "        229,  29],\n",
       "       [ 75, 204, 212, 204, 193, 205, 211, 225, 216, 185, 197, 206, 198,\n",
       "        213, 240, 195, 227, 245, 239, 223, 218, 212, 209, 222, 220, 221,\n",
       "        230,  67],\n",
       "       [ 48, 203, 183, 194, 213, 197, 185, 190, 194, 192, 202, 214, 219,\n",
       "        221, 220, 236, 225, 216, 199, 206, 186, 181, 177, 172, 181, 205,\n",
       "        206, 115],\n",
       "       [  0, 122, 219, 193, 179, 171, 183, 196, 204, 210, 213, 207, 211,\n",
       "        210, 200, 196, 194, 191, 195, 191, 198, 192, 176, 156, 167, 177,\n",
       "        210,  92],\n",
       "       [  0,   0,  74, 189, 212, 191, 175, 172, 175, 181, 185, 188, 189,\n",
       "        188, 193, 198, 204, 209, 210, 210, 211, 188, 188, 194, 192, 216,\n",
       "        170,   0],\n",
       "       [  2,   0,   0,   0,  66, 200, 222, 237, 239, 242, 246, 243, 244,\n",
       "        221, 220, 193, 191, 179, 182, 182, 181, 176, 166, 168,  99,  58,\n",
       "          0,   0],\n",
       "       [  0,   0,   0,   0,   0,   0,   0,  40,  61,  44,  72,  41,  35,\n",
       "          0,   0,   0,   0,   0,   0,   0,   0,   0,   0,   0,   0,   0,\n",
       "          0,   0],\n",
       "       [  0,   0,   0,   0,   0,   0,   0,   0,   0,   0,   0,   0,   0,\n",
       "          0,   0,   0,   0,   0,   0,   0,   0,   0,   0,   0,   0,   0,\n",
       "          0,   0],\n",
       "       [  0,   0,   0,   0,   0,   0,   0,   0,   0,   0,   0,   0,   0,\n",
       "          0,   0,   0,   0,   0,   0,   0,   0,   0,   0,   0,   0,   0,\n",
       "          0,   0]], dtype=uint8)"
      ]
     },
     "execution_count": 8,
     "metadata": {},
     "output_type": "execute_result"
    }
   ],
   "source": [
    "train_images[0]"
   ]
  },
  {
   "cell_type": "code",
   "execution_count": 9,
   "id": "45908970",
   "metadata": {},
   "outputs": [],
   "source": [
    "import cv2\n",
    "prImg = cv2.imread(\"pruebaFoto.png\")"
   ]
  },
  {
   "cell_type": "code",
   "execution_count": 10,
   "id": "6392f91a",
   "metadata": {},
   "outputs": [
    {
     "data": {
      "text/plain": [
       "array([[[ 76, 112,  71],\n",
       "        [ 76, 112,  71],\n",
       "        [ 76, 112,  71],\n",
       "        ...,\n",
       "        [ 76, 112,  71],\n",
       "        [ 76, 112,  71],\n",
       "        [ 76, 112,  71]],\n",
       "\n",
       "       [[ 76, 112,  71],\n",
       "        [ 76, 112,  71],\n",
       "        [ 76, 112,  71],\n",
       "        ...,\n",
       "        [ 76, 112,  71],\n",
       "        [ 76, 112,  71],\n",
       "        [ 76, 112,  71]],\n",
       "\n",
       "       [[ 76, 112,  71],\n",
       "        [ 76, 112,  71],\n",
       "        [ 76, 112,  71],\n",
       "        ...,\n",
       "        [ 76, 112,  71],\n",
       "        [ 76, 112,  71],\n",
       "        [ 76, 112,  71]],\n",
       "\n",
       "       ...,\n",
       "\n",
       "       [[ 76, 112,  71],\n",
       "        [ 76, 112,  71],\n",
       "        [ 76, 112,  71],\n",
       "        ...,\n",
       "        [ 76, 112,  71],\n",
       "        [ 76, 112,  71],\n",
       "        [ 76, 112,  71]],\n",
       "\n",
       "       [[ 76, 112,  71],\n",
       "        [ 76, 112,  71],\n",
       "        [ 76, 112,  71],\n",
       "        ...,\n",
       "        [ 76, 112,  71],\n",
       "        [ 76, 112,  71],\n",
       "        [ 76, 112,  71]],\n",
       "\n",
       "       [[ 76, 112,  71],\n",
       "        [ 76, 112,  71],\n",
       "        [ 76, 112,  71],\n",
       "        ...,\n",
       "        [ 76, 112,  71],\n",
       "        [ 76, 112,  71],\n",
       "        [ 76, 112,  71]]], dtype=uint8)"
      ]
     },
     "execution_count": 10,
     "metadata": {},
     "output_type": "execute_result"
    }
   ],
   "source": [
    "prImg"
   ]
  },
  {
   "cell_type": "code",
   "execution_count": 11,
   "id": "931669d7",
   "metadata": {},
   "outputs": [
    {
     "name": "stdout",
     "output_type": "stream",
     "text": [
      "<class 'numpy.ndarray'>\n",
      "<class 'numpy.ndarray'>\n",
      "(548, 448, 3)\n",
      "736512\n",
      "784\n",
      "(28, 28)\n"
     ]
    }
   ],
   "source": [
    "print(type(train_images))\n",
    "print(type(prImg))\n",
    "print(prImg.shape)\n",
    "print(prImg.size)\n",
    "print(train_images[0].size)\n",
    "print(train_images[0].shape)"
   ]
  },
  {
   "cell_type": "code",
   "execution_count": 12,
   "id": "ee2f7aaa",
   "metadata": {},
   "outputs": [],
   "source": [
    "from keras.models import Sequential\n",
    "from keras.layers.core import Dense\n",
    "from keras.layers import Flatten\n",
    "model = Sequential([\n",
    "    Flatten(input_shape=(28,28)),\n",
    "    Dense(64,activation=\"relu\"),\n",
    "    Dense(32,activation=\"relu\"),\n",
    "    Dense(128,activation=\"relu\"),\n",
    "    Dense(10,activation=\"softmax\"),\n",
    "])"
   ]
  },
  {
   "cell_type": "code",
   "execution_count": 13,
   "id": "03f1cf8b",
   "metadata": {},
   "outputs": [
    {
     "name": "stdout",
     "output_type": "stream",
     "text": [
      "Model: \"sequential\"\n",
      "_________________________________________________________________\n",
      " Layer (type)                Output Shape              Param #   \n",
      "=================================================================\n",
      " flatten (Flatten)           (None, 784)               0         \n",
      "                                                                 \n",
      " dense (Dense)               (None, 64)                50240     \n",
      "                                                                 \n",
      " dense_1 (Dense)             (None, 32)                2080      \n",
      "                                                                 \n",
      " dense_2 (Dense)             (None, 128)               4224      \n",
      "                                                                 \n",
      " dense_3 (Dense)             (None, 10)                1290      \n",
      "                                                                 \n",
      "=================================================================\n",
      "Total params: 57,834\n",
      "Trainable params: 57,834\n",
      "Non-trainable params: 0\n",
      "_________________________________________________________________\n"
     ]
    }
   ],
   "source": [
    "model.compile(optimizer=\"adam\",\n",
    "             loss=\"sparse_categorical_crossentropy\",\n",
    "             metrics=[\"accuracy\"])\n",
    "model.summary()"
   ]
  },
  {
   "cell_type": "code",
   "execution_count": 14,
   "id": "0e03da05",
   "metadata": {},
   "outputs": [
    {
     "name": "stdout",
     "output_type": "stream",
     "text": [
      "Epoch 1/10\n",
      "1875/1875 [==============================] - 5s 1ms/step - loss: 1.1536 - accuracy: 0.7353\n",
      "Epoch 2/10\n",
      "1875/1875 [==============================] - 2s 1ms/step - loss: 0.5464 - accuracy: 0.8089\n",
      "Epoch 3/10\n",
      "1875/1875 [==============================] - 2s 1ms/step - loss: 0.5008 - accuracy: 0.8235\n",
      "Epoch 4/10\n",
      "1875/1875 [==============================] - 2s 1ms/step - loss: 0.4642 - accuracy: 0.8360\n",
      "Epoch 5/10\n",
      "1875/1875 [==============================] - 2s 1ms/step - loss: 0.4366 - accuracy: 0.8472\n",
      "Epoch 6/10\n",
      "1875/1875 [==============================] - 2s 1ms/step - loss: 0.4202 - accuracy: 0.8515\n",
      "Epoch 7/10\n",
      "1875/1875 [==============================] - 2s 1ms/step - loss: 0.4005 - accuracy: 0.8579\n",
      "Epoch 8/10\n",
      "1875/1875 [==============================] - 2s 1ms/step - loss: 0.3926 - accuracy: 0.8610\n",
      "Epoch 9/10\n",
      "1875/1875 [==============================] - 2s 1ms/step - loss: 0.3758 - accuracy: 0.8666\n",
      "Epoch 10/10\n",
      "1875/1875 [==============================] - 2s 1ms/step - loss: 0.3669 - accuracy: 0.8685\n"
     ]
    },
    {
     "data": {
      "text/plain": [
       "<keras.callbacks.History at 0x1eac0638e20>"
      ]
     },
     "execution_count": 14,
     "metadata": {},
     "output_type": "execute_result"
    }
   ],
   "source": [
    "model.fit(train_images,train_labels, epochs=10)"
   ]
  },
  {
   "cell_type": "code",
   "execution_count": 15,
   "id": "f3d12f70",
   "metadata": {},
   "outputs": [
    {
     "name": "stdout",
     "output_type": "stream",
     "text": [
      "313/313 [==============================] - 1s 1ms/step - loss: 0.4272 - accuracy: 0.8515\n",
      "Test Accuracy:  0.8514999747276306\n",
      "Test Loss:  0.42718514800071716\n"
     ]
    }
   ],
   "source": [
    "test_loss, test_acc = model.evaluate(test_images,test_labels)\n",
    "print(\"Test Accuracy: \",test_acc)\n",
    "print(\"Test Loss: \",test_loss)"
   ]
  },
  {
   "cell_type": "code",
   "execution_count": 16,
   "id": "3b131a83",
   "metadata": {},
   "outputs": [
    {
     "name": "stdout",
     "output_type": "stream",
     "text": [
      "tipo:  <class 'numpy.ndarray'>\n"
     ]
    }
   ],
   "source": [
    "prediction= model.predict(test_images)\n",
    "print(\"tipo: \",type(test_images[0]))"
   ]
  },
  {
   "cell_type": "code",
   "execution_count": null,
   "id": "6002d7a0",
   "metadata": {},
   "outputs": [],
   "source": []
  },
  {
   "cell_type": "code",
   "execution_count": 17,
   "id": "b9273f39",
   "metadata": {},
   "outputs": [
    {
     "name": "stdout",
     "output_type": "stream",
     "text": [
      "9\n",
      "[9 2 1 ... 8 1 5]\n"
     ]
    }
   ],
   "source": [
    "# ahora vamos a ver cual tiene el valor más alto de seguridad\n",
    "print(np.argmax(prediction[0]))\n",
    "print(test_labels)"
   ]
  },
  {
   "cell_type": "markdown",
   "id": "2df804ea",
   "metadata": {},
   "source": [
    "# Vamos a definir algunas funciones utiles"
   ]
  },
  {
   "cell_type": "code",
   "execution_count": 18,
   "id": "8ff46b59",
   "metadata": {},
   "outputs": [],
   "source": [
    "def porcentajes(i,predictions_array,true_label,img):\n",
    "    predictions_array,true_label,img = predictions_array[i],true_label[i],img[i]\n",
    "    predicted_label = np.argmax(predictions_array)\n",
    "    texto = categorias[predicted_label], \" \",100*np.max(predictions_array), \" \", categorias[true_label]\n",
    "    lblPorcentaje = Label(raiz,text=texto,bg=\"#077AAE\",fg=\"#FEFEFE\").pack()"
   ]
  },
  {
   "cell_type": "code",
   "execution_count": null,
   "id": "c638277e",
   "metadata": {},
   "outputs": [],
   "source": []
  },
  {
   "cell_type": "code",
   "execution_count": 19,
   "id": "c14a0af5",
   "metadata": {},
   "outputs": [
    {
     "data": {
      "text/plain": [
       "10000"
      ]
     },
     "execution_count": 19,
     "metadata": {},
     "output_type": "execute_result"
    }
   ],
   "source": [
    "len(prediction)"
   ]
  },
  {
   "cell_type": "code",
   "execution_count": 20,
   "id": "5018d8f1",
   "metadata": {},
   "outputs": [],
   "source": [
    "#import matplotlib.patches as patches\n",
    "#import matplotlib.cbook as cbook\n",
    "from PIL import Image\n",
    "#from matplotlib.backends.backend_tkagg import FigureCanvasTkAgg\n",
    "raiz = Tk()\n",
    "raiz.geometry(\"450x350\")\n",
    "raiz.title(\"Clasificador\")\n",
    "frame= Frame(raiz, bg=\"blue\")\n",
    "entero_prueba = ttk.Entry(raiz,width=20)\n",
    "entero_prueba.pack()\n",
    "lblPorcentaje = Label(raiz,text=\"\",bg=\"#077AAE\",fg=\"#FEFEFE\").pack()\n",
    "i=0\n",
    "\n",
    "# aquí vamos a ver que tan probable es que salga esta imagen\n",
    "def testeo_si_testeo():\n",
    "    i= int(entero_prueba.get())\n",
    "    porcentajes(i,prediction,test_labels,test_images)"
   ]
  },
  {
   "cell_type": "code",
   "execution_count": 21,
   "id": "830aab9f",
   "metadata": {},
   "outputs": [],
   "source": [
    "boton_prueba= Button(raiz, text=\"Ver\", command=testeo_si_testeo)\n",
    "boton_prueba.pack()\n",
    "img2 = Image.fromarray(test_images[i])\n",
    "\n",
    "#####################################################################################\n",
    "# Inge creo que estos directorios los va tener que cambiar si quiere que le funcione\n",
    "#####################################################################################\n",
    "\n",
    "img2.save('C:\\\\Users\\\\HP15DA0023LA\\\\Untitled Folder\\\\my.png')\n",
    "ix = PhotoImage(file=\"C:\\\\Users\\\\HP15DA0023LA\\\\Untitled Folder\\\\my.png\")\n",
    "lbl_img = Label(raiz, image = ix)\n",
    "lbl_img.pack()"
   ]
  },
  {
   "cell_type": "code",
   "execution_count": 22,
   "id": "ce81a912",
   "metadata": {},
   "outputs": [],
   "source": [
    "raiz.mainloop()"
   ]
  },
  {
   "cell_type": "code",
   "execution_count": null,
   "id": "9621696a",
   "metadata": {},
   "outputs": [],
   "source": []
  },
  {
   "cell_type": "code",
   "execution_count": null,
   "id": "e1f34d24",
   "metadata": {},
   "outputs": [],
   "source": []
  },
  {
   "cell_type": "code",
   "execution_count": null,
   "id": "cf253daa",
   "metadata": {},
   "outputs": [],
   "source": []
  },
  {
   "cell_type": "code",
   "execution_count": null,
   "id": "42af07ab",
   "metadata": {},
   "outputs": [],
   "source": []
  }
 ],
 "metadata": {
  "kernelspec": {
   "display_name": "Python 3 (ipykernel)",
   "language": "python",
   "name": "python3"
  },
  "language_info": {
   "codemirror_mode": {
    "name": "ipython",
    "version": 3
   },
   "file_extension": ".py",
   "mimetype": "text/x-python",
   "name": "python",
   "nbconvert_exporter": "python",
   "pygments_lexer": "ipython3",
   "version": "3.9.7"
  }
 },
 "nbformat": 4,
 "nbformat_minor": 5
}
